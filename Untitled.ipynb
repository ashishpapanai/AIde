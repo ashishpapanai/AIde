{
 "cells": [
  {
   "cell_type": "code",
   "execution_count": 51,
   "id": "47827fb8",
   "metadata": {},
   "outputs": [],
   "source": [
    "import cv2\n",
    "path = r'E:\\road-vision-ai\\data\\sample_test_crop.png'\n",
    "img = cv2.imread(path)\n",
    "cv2.cvtColor(img, cv2.COLOR_BGR2RGB)\n",
    "scale_percent = 50 # percent of original size\n",
    "width = int(img.shape[1] * scale_percent / 100)\n",
    "height = int(img.shape[0] * scale_percent / 100)\n",
    "dim = (width, height)\n",
    "res_img = cv2.resize(img, dim)"
   ]
  },
  {
   "cell_type": "code",
   "execution_count": 52,
   "id": "610c6686",
   "metadata": {},
   "outputs": [],
   "source": [
    "while True:\n",
    "    # Press 'q' for exit\n",
    "    exit_key = ord('q')\n",
    "    if cv2.waitKey(exit_key) & 255 == exit_key:\n",
    "        cv2.destroyAllWindows()\n",
    "        break\n",
    "    cv2.imshow('Image', res_img)"
   ]
  },
  {
   "cell_type": "code",
   "execution_count": 56,
   "id": "0c657d6a",
   "metadata": {},
   "outputs": [],
   "source": [
    "img_cpy = res_img"
   ]
  },
  {
   "cell_type": "code",
   "execution_count": 57,
   "id": "358c2c23",
   "metadata": {},
   "outputs": [],
   "source": [
    "gray = cv2.cvtColor(img_cpy, cv2.COLOR_BGR2GRAY) #  convert to grayscale\n",
    "blurred = cv2.GaussianBlur(gray, (7, 7), 0) # blur\n",
    "canny = cv2.Canny(blurred, 30, 100) # apply canny\n",
    "contours, _ = cv2.findContours(canny,cv2.RETR_EXTERNAL,cv2.CHAIN_APPROX_NONE)"
   ]
  },
  {
   "cell_type": "code",
   "execution_count": 58,
   "id": "ccf277ec",
   "metadata": {},
   "outputs": [],
   "source": [
    "cv2.drawContours(img_cpy, contours, -1, (0,255,0), 2)\n",
    "while True:\n",
    "    # Press 'q' for exit\n",
    "    exit_key = ord('q')\n",
    "    if cv2.waitKey(exit_key) & 255 == exit_key:\n",
    "        cv2.destroyAllWindows()\n",
    "        break\n",
    "    cv2.imshow('Image', img_cpy)"
   ]
  },
  {
   "cell_type": "code",
   "execution_count": null,
   "id": "f4b90d9f",
   "metadata": {},
   "outputs": [],
   "source": []
  }
 ],
 "metadata": {
  "interpreter": {
   "hash": "c3f587d4cc79aa5c080429a7e7e3f43f50d535f7bc2a6feb11cffff8e6e0e126"
  },
  "kernelspec": {
   "display_name": "Python 3",
   "language": "python",
   "name": "python3"
  },
  "language_info": {
   "codemirror_mode": {
    "name": "ipython",
    "version": 3
   },
   "file_extension": ".py",
   "mimetype": "text/x-python",
   "name": "python",
   "nbconvert_exporter": "python",
   "pygments_lexer": "ipython3",
   "version": "3.9.5"
  },
  "latex_envs": {
   "LaTeX_envs_menu_present": true,
   "autoclose": false,
   "autocomplete": true,
   "bibliofile": "biblio.bib",
   "cite_by": "apalike",
   "current_citInitial": 1,
   "eqLabelWithNumbers": true,
   "eqNumInitial": 1,
   "hotkeys": {
    "equation": "Ctrl-E",
    "itemize": "Ctrl-I"
   },
   "labels_anchors": false,
   "latex_user_defs": false,
   "report_style_numbering": false,
   "user_envs_cfg": false
  }
 },
 "nbformat": 4,
 "nbformat_minor": 5
}
